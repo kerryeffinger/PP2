{
 "cells": [
  {
   "cell_type": "markdown",
   "metadata": {},
   "source": [
    "# Programming Project 2\n",
    "---\n",
    "**Author:** Kerry Effinger  \n",
    "**Version:** 1.0  \n",
    "**Semester:** Fall 2020  \n",
    "\n",
    "This *notebook* contains my solution to **Programming Project 2**"
   ]
  },
  {
   "cell_type": "code",
   "execution_count": 4,
   "metadata": {},
   "outputs": [
    {
     "name": "stdout",
     "output_type": "stream",
     "text": [
      "[['George', 'Washington', 1789, 1797, 'VA', '2/22/1732', '12/14/1799', 57, 67], ['John', 'Adams1', 1797, 1801, 'MA', '10/30/1735', '7/4/1826', 61, 90], ['Thomas', 'Jefferson', 1801, 1809, 'VA', '4/13/1743', '7/4/1826', 57, 83], ['James', 'Madison', 1809, 1817, 'VA', '3/16/1751', '6/28/1836', 57, 85], ['James', 'Monroe', 1817, 1825, 'VA', '4/28/1758', '7/4/1831', 58, 73], ['John', 'Adams2', 1825, 1829, 'MA', '7/11/1767', '2/23/1848', 57, 80], ['Andrew', 'Jackson', 1829, 1837, 'SC', '3/15/1767', '6/8/1845', 61, 78], ['Martin', 'Van Buren', 1837, 1841, 'NY', '12/5/1782', '7/24/1862', 54, 79], ['William', 'Harrison1', 1841, 1841, 'VA', '2/9/1773', '4/4/1841', 68, 68], ['John', 'Tyler', 1841, 1845, 'VA', '3/29/1790', '1/18/1862', 51, 71], ['James', 'Polk', 1845, 1849, 'NC', '11/2/1795', '6/15/1849', 49, 53], ['Zachary', 'Taylor', 1849, 1850, 'VA', '11/24/1784', '7/9/1850', 64, 65], ['Millard', 'Fillmore', 1850, 1853, 'NY', '1/7/1800', '3/8/1874', 50, 74], ['Franklin', 'Pierce', 1853, 1857, 'NH', '11/23/1804', '10/8/1869', 48, 64], ['James', 'Buchanan', 1857, 1861, 'PA', '4/23/1791', '6/1/1868', 65, 77], ['Abraham', 'Lincoln', 1861, 1865, 'KY', '2/12/1809', '4/15/1865', 52, 56], ['Andrew', 'Johnson', 1865, 1869, 'NC', '12/29/1808', '7/31/1875', 56, 66], ['Ulysses', 'Grant', 1869, 1877, 'OH', '4/27/1822', '7/23/1885', 46, 63], ['Rutherford', 'Hayes', 1877, 1881, 'OH', '10/4/1822', '1/17/1893', 54, 70], ['James', 'Garfield', 1881, 1881, 'OH', '11/19/1831', '9/19/1881', 49, 49], ['Chester', 'Arthur', 1881, 1885, 'VT', '10/5/1829', '11/18/1886', 50, 56], ['Grover', 'Cleveland1', 1885, 1889, 'NJ', '3/18/1837', '6/24/1908', 47, 71], ['Benjamin', 'Harrison2', 1889, 1893, 'OH', '8/20/1833', '3/13/1901', 55, 67], ['Grover', 'Cleveland2', 1893, 1897, 'NJ', '3/18/1837', '6/24/1908', 55, 71]]\n"
     ]
    }
   ],
   "source": [
    "['FirstName','LastName','StartTerm','EndTerm','BirthState','Born','Died','InaugurationAge','DeathAge']\n",
    "\n",
    "presidents = [['George','Washington',1789,1797,'VA','2/22/1732','12/14/1799',57,67],\n",
    "['John','Adams1',1797,1801,'MA','10/30/1735','7/4/1826',61,90],\n",
    "['Thomas','Jefferson',1801,1809,'VA','4/13/1743','7/4/1826',57,83],\n",
    "['James','Madison',1809,1817,'VA','3/16/1751','6/28/1836',57,85],\n",
    "['James','Monroe',1817,1825,'VA','4/28/1758','7/4/1831',58,73],\n",
    "['John','Adams2',1825,1829,'MA','7/11/1767','2/23/1848',57,80],\n",
    "['Andrew','Jackson',1829,1837,'SC','3/15/1767','6/8/1845',61,78],\n",
    "['Martin','Van Buren',1837,1841,'NY','12/5/1782','7/24/1862',54,79],\n",
    "['William','Harrison1',1841,1841,'VA','2/9/1773','4/4/1841',68,68],\n",
    "['John','Tyler',1841,1845,'VA','3/29/1790','1/18/1862',51,71],\n",
    "['James','Polk',1845,1849,'NC','11/2/1795','6/15/1849',49,53],\n",
    "['Zachary','Taylor',1849,1850,'VA','11/24/1784','7/9/1850',64,65],\n",
    "['Millard','Fillmore',1850,1853,'NY','1/7/1800','3/8/1874',50,74],\n",
    "['Franklin','Pierce',1853,1857,'NH','11/23/1804','10/8/1869',48,64],\n",
    "['James','Buchanan',1857,1861,'PA','4/23/1791','6/1/1868',65,77],\n",
    "['Abraham','Lincoln',1861,1865,'KY','2/12/1809','4/15/1865',52,56],\n",
    "['Andrew','Johnson',1865,1869,'NC','12/29/1808','7/31/1875',56,66],\n",
    "['Ulysses','Grant',1869,1877,'OH','4/27/1822','7/23/1885',46,63],\n",
    "['Rutherford','Hayes',1877,1881,'OH','10/4/1822','1/17/1893',54,70],\n",
    "['James','Garfield',1881,1881,'OH','11/19/1831','9/19/1881',49,49],\n",
    "['Chester','Arthur',1881,1885,'VT','10/5/1829','11/18/1886',50,56],\n",
    "['Grover','Cleveland1',1885,1889,'NJ','3/18/1837','6/24/1908',47,71],\n",
    "['Benjamin','Harrison2',1889,1893,'OH','8/20/1833','3/13/1901',55,67],\n",
    "['Grover','Cleveland2',1893,1897,'NJ','3/18/1837','6/24/1908',55,71]]\n",
    "print(presidents)"
   ]
  },
  {
   "cell_type": "markdown",
   "metadata": {},
   "source": [
    "## 2"
   ]
  },
  {
   "cell_type": "code",
   "execution_count": 7,
   "metadata": {},
   "outputs": [],
   "source": [
    "def extract_column(data,column):\n",
    "    return data[column]"
   ]
  },
  {
   "cell_type": "code",
   "execution_count": 8,
   "metadata": {},
   "outputs": [
    {
     "data": {
      "text/plain": [
       "['George', 'Washington', 1789, 1797, 'VA', '2/22/1732', '12/14/1799', 57, 67]"
      ]
     },
     "execution_count": 8,
     "metadata": {},
     "output_type": "execute_result"
    }
   ],
   "source": [
    "extract_column (presidents, 0)"
   ]
  },
  {
   "cell_type": "code",
   "execution_count": 10,
   "metadata": {},
   "outputs": [
    {
     "data": {
      "text/plain": [
       "1801"
      ]
     },
     "execution_count": 10,
     "metadata": {},
     "output_type": "execute_result"
    }
   ],
   "source": [
    "extract_column (presidents[1],3)\n"
   ]
  },
  {
   "cell_type": "markdown",
   "metadata": {},
   "source": [
    "## 3"
   ]
  },
  {
   "cell_type": "code",
   "execution_count": 11,
   "metadata": {},
   "outputs": [
    {
     "name": "stdout",
     "output_type": "stream",
     "text": [
      "['George', 'John', 'Thomas', 'James', 'James', 'John', 'Andrew', 'Martin', 'William', 'John', 'James', 'Zachary', 'Millard', 'Franklin', 'James', 'Abraham', 'Andrew', 'Ulysses', 'Rutherford', 'James', 'Chester', 'Grover', 'Benjamin', 'Grover']\n"
     ]
    }
   ],
   "source": [
    "first_name = list()\n",
    "for p in presidents:\n",
    "    first_name.append (extract_column(p,0))\n",
    "    \n",
    "print(first_name)    "
   ]
  },
  {
   "cell_type": "code",
   "execution_count": 12,
   "metadata": {},
   "outputs": [
    {
     "name": "stdout",
     "output_type": "stream",
     "text": [
      "['Washington', 'Adams1', 'Jefferson', 'Madison', 'Monroe', 'Adams2', 'Jackson', 'Van Buren', 'Harrison1', 'Tyler', 'Polk', 'Taylor', 'Fillmore', 'Pierce', 'Buchanan', 'Lincoln', 'Johnson', 'Grant', 'Hayes', 'Garfield', 'Arthur', 'Cleveland1', 'Harrison2', 'Cleveland2']\n"
     ]
    }
   ],
   "source": [
    "last_name = list()\n",
    "for p in presidents:\n",
    "    last_name.append (extract_column(p,1))\n",
    "    \n",
    "print(last_name) "
   ]
  },
  {
   "cell_type": "code",
   "execution_count": 28,
   "metadata": {},
   "outputs": [
    {
     "name": "stdout",
     "output_type": "stream",
     "text": [
      "[1789, 1797, 1801, 1809, 1817, 1825, 1829, 1837, 1841, 1841, 1845, 1849, 1850, 1853, 1857, 1861, 1865, 1869, 1877, 1881, 1881, 1885, 1889, 1893]\n"
     ]
    }
   ],
   "source": [
    "start_term = list()\n",
    "for p in presidents:\n",
    "    start_term.append (extract_column(p,2))\n",
    "    \n",
    "print(start_term) "
   ]
  },
  {
   "cell_type": "code",
   "execution_count": 27,
   "metadata": {},
   "outputs": [
    {
     "name": "stdout",
     "output_type": "stream",
     "text": [
      "[1797, 1801, 1809, 1817, 1825, 1829, 1837, 1841, 1841, 1845, 1849, 1850, 1853, 1857, 1861, 1865, 1869, 1877, 1881, 1881, 1885, 1889, 1893, 1897]\n"
     ]
    }
   ],
   "source": [
    "end_term = list()\n",
    "for p in presidents:\n",
    "    end_term.append (extract_column(p,3))\n",
    "    \n",
    "print(end_term) "
   ]
  },
  {
   "cell_type": "code",
   "execution_count": 26,
   "metadata": {},
   "outputs": [
    {
     "name": "stdout",
     "output_type": "stream",
     "text": [
      "['VA', 'MA', 'VA', 'VA', 'VA', 'MA', 'SC', 'NY', 'VA', 'VA', 'NC', 'VA', 'NY', 'NH', 'PA', 'KY', 'NC', 'OH', 'OH', 'OH', 'VT', 'NJ', 'OH', 'NJ']\n"
     ]
    }
   ],
   "source": [
    "birth_state = list()\n",
    "for p in presidents:\n",
    "    birth_state.append (extract_column(p,4))\n",
    "    \n",
    "print(birth_state) "
   ]
  },
  {
   "cell_type": "code",
   "execution_count": 30,
   "metadata": {},
   "outputs": [
    {
     "name": "stdout",
     "output_type": "stream",
     "text": [
      "['2/22/1732', '10/30/1735', '4/13/1743', '3/16/1751', '4/28/1758', '7/11/1767', '3/15/1767', '12/5/1782', '2/9/1773', '3/29/1790', '11/2/1795', '11/24/1784', '1/7/1800', '11/23/1804', '4/23/1791', '2/12/1809', '12/29/1808', '4/27/1822', '10/4/1822', '11/19/1831', '10/5/1829', '3/18/1837', '8/20/1833', '3/18/1837']\n"
     ]
    }
   ],
   "source": [
    "born = list()\n",
    "for p in presidents:\n",
    "    born.append (extract_column(p,5))\n",
    "    \n",
    "print(born)"
   ]
  },
  {
   "cell_type": "code",
   "execution_count": 31,
   "metadata": {},
   "outputs": [
    {
     "name": "stdout",
     "output_type": "stream",
     "text": [
      "['12/14/1799', '7/4/1826', '7/4/1826', '6/28/1836', '7/4/1831', '2/23/1848', '6/8/1845', '7/24/1862', '4/4/1841', '1/18/1862', '6/15/1849', '7/9/1850', '3/8/1874', '10/8/1869', '6/1/1868', '4/15/1865', '7/31/1875', '7/23/1885', '1/17/1893', '9/19/1881', '11/18/1886', '6/24/1908', '3/13/1901', '6/24/1908']\n"
     ]
    }
   ],
   "source": [
    "died = list()\n",
    "for p in presidents:\n",
    "    died.append (extract_column(p,6))\n",
    "    \n",
    "print(died)"
   ]
  },
  {
   "cell_type": "code",
   "execution_count": 32,
   "metadata": {},
   "outputs": [
    {
     "name": "stdout",
     "output_type": "stream",
     "text": [
      "[57, 61, 57, 57, 58, 57, 61, 54, 68, 51, 49, 64, 50, 48, 65, 52, 56, 46, 54, 49, 50, 47, 55, 55]\n"
     ]
    }
   ],
   "source": [
    "Inauguration_age = list()\n",
    "for p in presidents:\n",
    "    Inauguration_age.append (extract_column(p,7))\n",
    "    \n",
    "print(Inauguration_age)    "
   ]
  },
  {
   "cell_type": "code",
   "execution_count": 33,
   "metadata": {},
   "outputs": [
    {
     "name": "stdout",
     "output_type": "stream",
     "text": [
      "[67, 90, 83, 85, 73, 80, 78, 79, 68, 71, 53, 65, 74, 64, 77, 56, 66, 63, 70, 49, 56, 71, 67, 71]\n"
     ]
    }
   ],
   "source": [
    "Death_age = list()\n",
    "for p in presidents:\n",
    "    Death_age.append (extract_column(p,8))\n",
    "    \n",
    "print(Death_age) "
   ]
  },
  {
   "cell_type": "markdown",
   "metadata": {},
   "source": [
    "## 4"
   ]
  },
  {
   "cell_type": "code",
   "execution_count": 17,
   "metadata": {},
   "outputs": [],
   "source": [
    "names = list(zip(first_name, last_name))"
   ]
  },
  {
   "cell_type": "code",
   "execution_count": 18,
   "metadata": {},
   "outputs": [
    {
     "data": {
      "text/plain": [
       "[('George', 'Washington'),\n",
       " ('John', 'Adams1'),\n",
       " ('Thomas', 'Jefferson'),\n",
       " ('James', 'Madison'),\n",
       " ('James', 'Monroe'),\n",
       " ('John', 'Adams2'),\n",
       " ('Andrew', 'Jackson'),\n",
       " ('Martin', 'Van Buren'),\n",
       " ('William', 'Harrison1'),\n",
       " ('John', 'Tyler'),\n",
       " ('James', 'Polk'),\n",
       " ('Zachary', 'Taylor'),\n",
       " ('Millard', 'Fillmore'),\n",
       " ('Franklin', 'Pierce'),\n",
       " ('James', 'Buchanan'),\n",
       " ('Abraham', 'Lincoln'),\n",
       " ('Andrew', 'Johnson'),\n",
       " ('Ulysses', 'Grant'),\n",
       " ('Rutherford', 'Hayes'),\n",
       " ('James', 'Garfield'),\n",
       " ('Chester', 'Arthur'),\n",
       " ('Grover', 'Cleveland1'),\n",
       " ('Benjamin', 'Harrison2'),\n",
       " ('Grover', 'Cleveland2')]"
      ]
     },
     "execution_count": 18,
     "metadata": {},
     "output_type": "execute_result"
    }
   ],
   "source": [
    "names"
   ]
  },
  {
   "cell_type": "markdown",
   "metadata": {},
   "source": [
    "## 5"
   ]
  },
  {
   "cell_type": "code",
   "execution_count": 50,
   "metadata": {},
   "outputs": [],
   "source": [
    "swap = [(sub[1], sub[0]) for sub in names]"
   ]
  },
  {
   "cell_type": "code",
   "execution_count": 51,
   "metadata": {},
   "outputs": [
    {
     "data": {
      "text/plain": [
       "[('Washington', 'George'),\n",
       " ('Adams1', 'John'),\n",
       " ('Jefferson', 'Thomas'),\n",
       " ('Madison', 'James'),\n",
       " ('Monroe', 'James'),\n",
       " ('Adams2', 'John'),\n",
       " ('Jackson', 'Andrew'),\n",
       " ('Van Buren', 'Martin'),\n",
       " ('Harrison1', 'William'),\n",
       " ('Tyler', 'John'),\n",
       " ('Polk', 'James'),\n",
       " ('Taylor', 'Zachary'),\n",
       " ('Fillmore', 'Millard'),\n",
       " ('Pierce', 'Franklin'),\n",
       " ('Buchanan', 'James'),\n",
       " ('Lincoln', 'Abraham'),\n",
       " ('Johnson', 'Andrew'),\n",
       " ('Grant', 'Ulysses'),\n",
       " ('Hayes', 'Rutherford'),\n",
       " ('Garfield', 'James'),\n",
       " ('Arthur', 'Chester'),\n",
       " ('Cleveland1', 'Grover'),\n",
       " ('Harrison2', 'Benjamin'),\n",
       " ('Cleveland2', 'Grover')]"
      ]
     },
     "execution_count": 51,
     "metadata": {},
     "output_type": "execute_result"
    }
   ],
   "source": [
    "swap"
   ]
  },
  {
   "cell_type": "code",
   "execution_count": 49,
   "metadata": {},
   "outputs": [],
   "source": [
    "sorted_names = list(sorted(swap))"
   ]
  },
  {
   "cell_type": "code",
   "execution_count": 46,
   "metadata": {},
   "outputs": [
    {
     "data": {
      "text/plain": [
       "[('Adams1', 'John'),\n",
       " ('Adams2', 'John'),\n",
       " ('Arthur', 'Chester'),\n",
       " ('Buchanan', 'James'),\n",
       " ('Cleveland1', 'Grover'),\n",
       " ('Cleveland2', 'Grover'),\n",
       " ('Fillmore', 'Millard'),\n",
       " ('Garfield', 'James'),\n",
       " ('Grant', 'Ulysses'),\n",
       " ('Harrison1', 'William'),\n",
       " ('Harrison2', 'Benjamin'),\n",
       " ('Hayes', 'Rutherford'),\n",
       " ('Jackson', 'Andrew'),\n",
       " ('Jefferson', 'Thomas'),\n",
       " ('Johnson', 'Andrew'),\n",
       " ('Lincoln', 'Abraham'),\n",
       " ('Madison', 'James'),\n",
       " ('Monroe', 'James'),\n",
       " ('Pierce', 'Franklin'),\n",
       " ('Polk', 'James'),\n",
       " ('Taylor', 'Zachary'),\n",
       " ('Tyler', 'John'),\n",
       " ('Van Buren', 'Martin'),\n",
       " ('Washington', 'George')]"
      ]
     },
     "execution_count": 46,
     "metadata": {},
     "output_type": "execute_result"
    }
   ],
   "source": [
    "sorted_names"
   ]
  },
  {
   "cell_type": "markdown",
   "metadata": {},
   "source": [
    "## 6"
   ]
  },
  {
   "cell_type": "code",
   "execution_count": 27,
   "metadata": {},
   "outputs": [],
   "source": [
    "import statistics as stats"
   ]
  },
  {
   "cell_type": "code",
   "execution_count": 53,
   "metadata": {},
   "outputs": [],
   "source": [
    "mean_inaug_age = stats.mean(Inauguration_age)\n",
    "mean_death_age = stats.mean(Death_age)"
   ]
  },
  {
   "cell_type": "code",
   "execution_count": 54,
   "metadata": {},
   "outputs": [
    {
     "name": "stdout",
     "output_type": "stream",
     "text": [
      "55.041666666666664\n",
      "69.83333333333333\n"
     ]
    }
   ],
   "source": [
    "print(mean_inaug_age)\n",
    "print(mean_death_age)"
   ]
  },
  {
   "cell_type": "markdown",
   "metadata": {},
   "source": [
    "## 7"
   ]
  },
  {
   "cell_type": "code",
   "execution_count": 2,
   "metadata": {},
   "outputs": [],
   "source": [
    "def get_post_term(prez):\n",
    "    death_year = int(prez[6][6:10])\n",
    "    left_office = prez[3]\n",
    "    post_term = death_year - left_office\n",
    "    print(post_term)"
   ]
  },
  {
   "cell_type": "code",
   "execution_count": 5,
   "metadata": {},
   "outputs": [
    {
     "name": "stdout",
     "output_type": "stream",
     "text": [
      "2\n"
     ]
    }
   ],
   "source": [
    "get_post_term(presidents[0])\n"
   ]
  },
  {
   "cell_type": "markdown",
   "metadata": {},
   "source": [
    "## 8"
   ]
  },
  {
   "cell_type": "markdown",
   "metadata": {},
   "source": [
    "## 9"
   ]
  },
  {
   "cell_type": "markdown",
   "metadata": {},
   "source": [
    "## 10"
   ]
  },
  {
   "cell_type": "markdown",
   "metadata": {},
   "source": [
    "## 11"
   ]
  },
  {
   "cell_type": "markdown",
   "metadata": {},
   "source": [
    "## 12"
   ]
  },
  {
   "cell_type": "code",
   "execution_count": null,
   "metadata": {},
   "outputs": [],
   "source": []
  }
 ],
 "metadata": {
  "kernelspec": {
   "display_name": "Python 3",
   "language": "python",
   "name": "python3"
  },
  "language_info": {
   "codemirror_mode": {
    "name": "ipython",
    "version": 3
   },
   "file_extension": ".py",
   "mimetype": "text/x-python",
   "name": "python",
   "nbconvert_exporter": "python",
   "pygments_lexer": "ipython3",
   "version": "3.8.3"
  }
 },
 "nbformat": 4,
 "nbformat_minor": 4
}
