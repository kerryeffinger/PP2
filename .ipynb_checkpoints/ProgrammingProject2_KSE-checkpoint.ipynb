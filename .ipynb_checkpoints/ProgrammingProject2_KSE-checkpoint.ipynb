{
 "cells": [
  {
   "cell_type": "markdown",
   "metadata": {},
   "source": [
    "# Programming Project 2\n",
    "---\n",
    "**Author:** Kerry Effinger  \n",
    "**Version:** 1.0  \n",
    "**Semester:** Fall 2020  \n",
    "\n",
    "This *notebook* contains my solution to **Programming Project 2**"
   ]
  },
  {
   "cell_type": "code",
   "execution_count": 3,
   "metadata": {},
   "outputs": [
    {
     "name": "stdout",
     "output_type": "stream",
     "text": [
      "[['George', 'Washington', 1789, 1797, 'VA', '2/22/1732', '12/14/1799', 57, 67], ['John', 'Adams1', 1797, 1801, 'MA', '10/30/1735', '7/4/1826', 61, 90], ['Thomas', 'Jefferson', 1801, 1809, 'VA', '4/13/1743', '7/4/1826', 57, 83], ['James', 'Madison', 1809, 1817, 'VA', '3/16/1751', '6/28/1836', 57, 85], ['James', 'Monroe', 1817, 1825, 'VA', '4/28/1758', '7/4/1831', 58, 73], ['John', 'Adams2', 1825, 1829, 'MA', '7/11/1767', '2/23/1848', 57, 80], ['Andrew', 'Jackson', 1829, 1837, 'SC', '3/15/1767', '6/8/1845', 61, 78], ['Martin', 'Van Buren', 1837, 1841, 'NY', '12/5/1782', '7/24/1862', 54, 79], ['William', 'Harrison1', 1841, 1841, 'VA', '2/9/1773', '4/4/1841', 68, 68], ['John', 'Tyler', 1841, 1845, 'VA', '3/29/1790', '1/18/1862', 51, 71], ['James', 'Polk', 1845, 1849, 'NC', '11/2/1795', '6/15/1849', 49, 53], ['Zachary', 'Taylor', 1849, 1850, 'VA', '11/24/1784', '7/9/1850', 64, 65], ['Millard', 'Fillmore', 1850, 1853, 'NY', '1/7/1800', '3/8/1874', 50, 74], ['Franklin', 'Pierce', 1853, 1857, 'NH', '11/23/1804', '10/8/1869', 48, 64], ['James', 'Buchanan', 1857, 1861, 'PA', '4/23/1791', '6/1/1868', 65, 77], ['Abraham', 'Lincoln', 1861, 1865, 'KY', '2/12/1809', '4/15/1865', 52, 56], ['Andrew', 'Johnson', 1865, 1869, 'NC', '12/29/1808', '7/31/1875', 56, 66], ['Ulysses', 'Grant', 1869, 1877, 'OH', '4/27/1822', '7/23/1885', 46, 63], ['Rutherford', 'Hayes', 1877, 1881, 'OH', '10/4/1822', '1/17/1893', 54, 70], ['James', 'Garfield', 1881, 1881, 'OH', '11/19/1831', '9/19/1881', 49, 49], ['Chester', 'Arthur', 1881, 1885, 'VT', '10/5/1829', '11/18/1886', 50, 56], ['Grover', 'Cleveland1', 1885, 1889, 'NJ', '3/18/1837', '6/24/1908', 47, 71], ['Benjamin', 'Harrison2', 1889, 1893, 'OH', '8/20/1833', '3/13/1901', 55, 67], ['Grover', 'Cleveland2', 1893, 1897, 'NJ', '3/18/1837', '6/24/1908', 55, 71]]\n"
     ]
    }
   ],
   "source": [
    "['FirstName','LastName','StartTerm','EndTerm','BirthState','Born','Died','InaugurationAge','DeathAge']\n",
    "\n",
    "presidents = [['George','Washington',1789,1797,'VA','2/22/1732','12/14/1799',57,67],\n",
    "['John','Adams1',1797,1801,'MA','10/30/1735','7/4/1826',61,90],\n",
    "['Thomas','Jefferson',1801,1809,'VA','4/13/1743','7/4/1826',57,83],\n",
    "['James','Madison',1809,1817,'VA','3/16/1751','6/28/1836',57,85],\n",
    "['James','Monroe',1817,1825,'VA','4/28/1758','7/4/1831',58,73],\n",
    "['John','Adams2',1825,1829,'MA','7/11/1767','2/23/1848',57,80],\n",
    "['Andrew','Jackson',1829,1837,'SC','3/15/1767','6/8/1845',61,78],\n",
    "['Martin','Van Buren',1837,1841,'NY','12/5/1782','7/24/1862',54,79],\n",
    "['William','Harrison1',1841,1841,'VA','2/9/1773','4/4/1841',68,68],\n",
    "['John','Tyler',1841,1845,'VA','3/29/1790','1/18/1862',51,71],\n",
    "['James','Polk',1845,1849,'NC','11/2/1795','6/15/1849',49,53],\n",
    "['Zachary','Taylor',1849,1850,'VA','11/24/1784','7/9/1850',64,65],\n",
    "['Millard','Fillmore',1850,1853,'NY','1/7/1800','3/8/1874',50,74],\n",
    "['Franklin','Pierce',1853,1857,'NH','11/23/1804','10/8/1869',48,64],\n",
    "['James','Buchanan',1857,1861,'PA','4/23/1791','6/1/1868',65,77],\n",
    "['Abraham','Lincoln',1861,1865,'KY','2/12/1809','4/15/1865',52,56],\n",
    "['Andrew','Johnson',1865,1869,'NC','12/29/1808','7/31/1875',56,66],\n",
    "['Ulysses','Grant',1869,1877,'OH','4/27/1822','7/23/1885',46,63],\n",
    "['Rutherford','Hayes',1877,1881,'OH','10/4/1822','1/17/1893',54,70],\n",
    "['James','Garfield',1881,1881,'OH','11/19/1831','9/19/1881',49,49],\n",
    "['Chester','Arthur',1881,1885,'VT','10/5/1829','11/18/1886',50,56],\n",
    "['Grover','Cleveland1',1885,1889,'NJ','3/18/1837','6/24/1908',47,71],\n",
    "['Benjamin','Harrison2',1889,1893,'OH','8/20/1833','3/13/1901',55,67],\n",
    "['Grover','Cleveland2',1893,1897,'NJ','3/18/1837','6/24/1908',55,71]]\n",
    "print(presidents)"
   ]
  },
  {
   "cell_type": "markdown",
   "metadata": {},
   "source": [
    "## 2"
   ]
  },
  {
   "cell_type": "code",
   "execution_count": 84,
   "metadata": {},
   "outputs": [],
   "source": [
    "def extract_column(data,column):\n",
    "    \"\"\"this function returns a specified column from a list\"\"\"\n",
    "    column_list = list()\n",
    "    for p in presidents:\n",
    "        column_list.append (p[column])\n",
    "    return column_list"
   ]
  },
  {
   "cell_type": "code",
   "execution_count": 67,
   "metadata": {},
   "outputs": [
    {
     "data": {
      "text/plain": [
       "['Washington',\n",
       " 'Adams1',\n",
       " 'Jefferson',\n",
       " 'Madison',\n",
       " 'Monroe',\n",
       " 'Adams2',\n",
       " 'Jackson',\n",
       " 'Van Buren',\n",
       " 'Harrison1',\n",
       " 'Tyler',\n",
       " 'Polk',\n",
       " 'Taylor',\n",
       " 'Fillmore',\n",
       " 'Pierce',\n",
       " 'Buchanan',\n",
       " 'Lincoln',\n",
       " 'Johnson',\n",
       " 'Grant',\n",
       " 'Hayes',\n",
       " 'Garfield',\n",
       " 'Arthur',\n",
       " 'Cleveland1',\n",
       " 'Harrison2',\n",
       " 'Cleveland2']"
      ]
     },
     "execution_count": 67,
     "metadata": {},
     "output_type": "execute_result"
    }
   ],
   "source": [
    "extract_column (presidents, 1)"
   ]
  },
  {
   "cell_type": "markdown",
   "metadata": {},
   "source": [
    "## 3"
   ]
  },
  {
   "cell_type": "code",
   "execution_count": 68,
   "metadata": {},
   "outputs": [],
   "source": [
    "first_name = extract_column(presidents,0)  "
   ]
  },
  {
   "cell_type": "code",
   "execution_count": 69,
   "metadata": {},
   "outputs": [],
   "source": [
    "last_name = extract_column (presidents, 1)"
   ]
  },
  {
   "cell_type": "code",
   "execution_count": 70,
   "metadata": {},
   "outputs": [],
   "source": [
    "start_term = extract_column (presidents, 2) "
   ]
  },
  {
   "cell_type": "code",
   "execution_count": 71,
   "metadata": {},
   "outputs": [],
   "source": [
    "end_term = extract_column (presidents, 3)"
   ]
  },
  {
   "cell_type": "code",
   "execution_count": 72,
   "metadata": {},
   "outputs": [],
   "source": [
    "birth_state = extract_column (presidents, 4)"
   ]
  },
  {
   "cell_type": "code",
   "execution_count": 73,
   "metadata": {},
   "outputs": [],
   "source": [
    "born = extract_column (presidents, 5)"
   ]
  },
  {
   "cell_type": "code",
   "execution_count": 74,
   "metadata": {},
   "outputs": [],
   "source": [
    "died = extract_column (presidents, 6)"
   ]
  },
  {
   "cell_type": "code",
   "execution_count": 75,
   "metadata": {},
   "outputs": [],
   "source": [
    "Inauguration_age = extract_column (presidents, 7)   "
   ]
  },
  {
   "cell_type": "code",
   "execution_count": 86,
   "metadata": {},
   "outputs": [],
   "source": [
    "Death_age = extract_column (presidents, 8)"
   ]
  },
  {
   "cell_type": "markdown",
   "metadata": {},
   "source": [
    "## 4"
   ]
  },
  {
   "cell_type": "code",
   "execution_count": 17,
   "metadata": {},
   "outputs": [],
   "source": [
    "names = list(zip(first_name, last_name))"
   ]
  },
  {
   "cell_type": "code",
   "execution_count": 18,
   "metadata": {},
   "outputs": [
    {
     "data": {
      "text/plain": [
       "[('George', 'Washington'),\n",
       " ('John', 'Adams1'),\n",
       " ('Thomas', 'Jefferson'),\n",
       " ('James', 'Madison'),\n",
       " ('James', 'Monroe'),\n",
       " ('John', 'Adams2'),\n",
       " ('Andrew', 'Jackson'),\n",
       " ('Martin', 'Van Buren'),\n",
       " ('William', 'Harrison1'),\n",
       " ('John', 'Tyler'),\n",
       " ('James', 'Polk'),\n",
       " ('Zachary', 'Taylor'),\n",
       " ('Millard', 'Fillmore'),\n",
       " ('Franklin', 'Pierce'),\n",
       " ('James', 'Buchanan'),\n",
       " ('Abraham', 'Lincoln'),\n",
       " ('Andrew', 'Johnson'),\n",
       " ('Ulysses', 'Grant'),\n",
       " ('Rutherford', 'Hayes'),\n",
       " ('James', 'Garfield'),\n",
       " ('Chester', 'Arthur'),\n",
       " ('Grover', 'Cleveland1'),\n",
       " ('Benjamin', 'Harrison2'),\n",
       " ('Grover', 'Cleveland2')]"
      ]
     },
     "execution_count": 18,
     "metadata": {},
     "output_type": "execute_result"
    }
   ],
   "source": [
    "names"
   ]
  },
  {
   "cell_type": "markdown",
   "metadata": {},
   "source": [
    "## 5"
   ]
  },
  {
   "cell_type": "code",
   "execution_count": 50,
   "metadata": {},
   "outputs": [],
   "source": [
    "swap = [(sub[1], sub[0]) for sub in names]"
   ]
  },
  {
   "cell_type": "code",
   "execution_count": 51,
   "metadata": {},
   "outputs": [
    {
     "data": {
      "text/plain": [
       "[('Washington', 'George'),\n",
       " ('Adams1', 'John'),\n",
       " ('Jefferson', 'Thomas'),\n",
       " ('Madison', 'James'),\n",
       " ('Monroe', 'James'),\n",
       " ('Adams2', 'John'),\n",
       " ('Jackson', 'Andrew'),\n",
       " ('Van Buren', 'Martin'),\n",
       " ('Harrison1', 'William'),\n",
       " ('Tyler', 'John'),\n",
       " ('Polk', 'James'),\n",
       " ('Taylor', 'Zachary'),\n",
       " ('Fillmore', 'Millard'),\n",
       " ('Pierce', 'Franklin'),\n",
       " ('Buchanan', 'James'),\n",
       " ('Lincoln', 'Abraham'),\n",
       " ('Johnson', 'Andrew'),\n",
       " ('Grant', 'Ulysses'),\n",
       " ('Hayes', 'Rutherford'),\n",
       " ('Garfield', 'James'),\n",
       " ('Arthur', 'Chester'),\n",
       " ('Cleveland1', 'Grover'),\n",
       " ('Harrison2', 'Benjamin'),\n",
       " ('Cleveland2', 'Grover')]"
      ]
     },
     "execution_count": 51,
     "metadata": {},
     "output_type": "execute_result"
    }
   ],
   "source": [
    "swap"
   ]
  },
  {
   "cell_type": "code",
   "execution_count": 49,
   "metadata": {},
   "outputs": [],
   "source": [
    "sorted_names = list(sorted(swap))"
   ]
  },
  {
   "cell_type": "code",
   "execution_count": 46,
   "metadata": {},
   "outputs": [
    {
     "data": {
      "text/plain": [
       "[('Adams1', 'John'),\n",
       " ('Adams2', 'John'),\n",
       " ('Arthur', 'Chester'),\n",
       " ('Buchanan', 'James'),\n",
       " ('Cleveland1', 'Grover'),\n",
       " ('Cleveland2', 'Grover'),\n",
       " ('Fillmore', 'Millard'),\n",
       " ('Garfield', 'James'),\n",
       " ('Grant', 'Ulysses'),\n",
       " ('Harrison1', 'William'),\n",
       " ('Harrison2', 'Benjamin'),\n",
       " ('Hayes', 'Rutherford'),\n",
       " ('Jackson', 'Andrew'),\n",
       " ('Jefferson', 'Thomas'),\n",
       " ('Johnson', 'Andrew'),\n",
       " ('Lincoln', 'Abraham'),\n",
       " ('Madison', 'James'),\n",
       " ('Monroe', 'James'),\n",
       " ('Pierce', 'Franklin'),\n",
       " ('Polk', 'James'),\n",
       " ('Taylor', 'Zachary'),\n",
       " ('Tyler', 'John'),\n",
       " ('Van Buren', 'Martin'),\n",
       " ('Washington', 'George')]"
      ]
     },
     "execution_count": 46,
     "metadata": {},
     "output_type": "execute_result"
    }
   ],
   "source": [
    "sorted_names"
   ]
  },
  {
   "cell_type": "markdown",
   "metadata": {},
   "source": [
    "## 6"
   ]
  },
  {
   "cell_type": "code",
   "execution_count": 50,
   "metadata": {},
   "outputs": [],
   "source": [
    "import statistics as stats"
   ]
  },
  {
   "cell_type": "code",
   "execution_count": 77,
   "metadata": {},
   "outputs": [],
   "source": [
    "mean_inaug_age = stats.mean(Inauguration_age)\n",
    "mean_death_age = stats.mean(Death_age)"
   ]
  },
  {
   "cell_type": "code",
   "execution_count": 78,
   "metadata": {},
   "outputs": [
    {
     "name": "stdout",
     "output_type": "stream",
     "text": [
      "55.041666666666664\n",
      "69.83333333333333\n"
     ]
    }
   ],
   "source": [
    "print(mean_inaug_age)\n",
    "print(mean_death_age)"
   ]
  },
  {
   "cell_type": "markdown",
   "metadata": {},
   "source": [
    "## 7"
   ]
  },
  {
   "cell_type": "code",
   "execution_count": 88,
   "metadata": {},
   "outputs": [],
   "source": [
    "def get_post_term(prez):\n",
    "    \"\"\"this function calculates how long a president lived after leaving office\"\"\"\n",
    "    death_year = int(prez[6][6:10])\n",
    "    left_office = int(prez[3])\n",
    "    post_term = int(death_year - left_office)\n",
    "    print(post_term)"
   ]
  },
  {
   "cell_type": "markdown",
   "metadata": {},
   "source": [
    "## 8"
   ]
  },
  {
   "cell_type": "code",
   "execution_count": 92,
   "metadata": {},
   "outputs": [
    {
     "name": "stdout",
     "output_type": "stream",
     "text": [
      "1\n"
     ]
    }
   ],
   "source": [
    "get_post_term(presidents[-4])"
   ]
  },
  {
   "cell_type": "code",
   "execution_count": 89,
   "metadata": {},
   "outputs": [
    {
     "name": "stdout",
     "output_type": "stream",
     "text": [
      "-1794\n"
     ]
    }
   ],
   "source": [
    "get_post_term(presidents[4]) #only works for george washington"
   ]
  },
  {
   "cell_type": "markdown",
   "metadata": {},
   "source": [
    "## 9"
   ]
  },
  {
   "cell_type": "code",
   "execution_count": 38,
   "metadata": {},
   "outputs": [
    {
     "name": "stdout",
     "output_type": "stream",
     "text": [
      "2\n",
      "-1775\n",
      "-1783\n",
      "-981\n",
      "-1794\n",
      "-981\n",
      "-1792\n",
      "-979\n",
      "-1800\n",
      "-983\n",
      "-1000\n",
      "-1800\n",
      "-1779\n",
      "-988\n",
      "-1793\n",
      "-1000\n",
      "-994\n",
      "-992\n",
      "-988\n",
      "-1000\n",
      "1\n",
      "-981\n",
      "-992\n",
      "-989\n"
     ]
    }
   ],
   "source": [
    "post_presidency = list(map(get_post_term, presidents))"
   ]
  },
  {
   "cell_type": "markdown",
   "metadata": {},
   "source": [
    "## 10"
   ]
  },
  {
   "cell_type": "code",
   "execution_count": 81,
   "metadata": {},
   "outputs": [
    {
     "ename": "TypeError",
     "evalue": "can't convert type 'NoneType' to numerator/denominator",
     "output_type": "error",
     "traceback": [
      "\u001b[0;31m---------------------------------------------------------------------------\u001b[0m",
      "\u001b[0;31mTypeError\u001b[0m                                 Traceback (most recent call last)",
      "\u001b[0;32m<ipython-input-81-ecf91467be97>\u001b[0m in \u001b[0;36m<module>\u001b[0;34m\u001b[0m\n\u001b[0;32m----> 1\u001b[0;31m \u001b[0mmean_post_presidency\u001b[0m \u001b[0;34m=\u001b[0m \u001b[0mstats\u001b[0m\u001b[0;34m.\u001b[0m\u001b[0mmean\u001b[0m\u001b[0;34m(\u001b[0m\u001b[0mpost_presidency\u001b[0m\u001b[0;34m)\u001b[0m\u001b[0;34m\u001b[0m\u001b[0;34m\u001b[0m\u001b[0m\n\u001b[0m",
      "\u001b[0;32m/opt/anaconda3/lib/python3.8/statistics.py\u001b[0m in \u001b[0;36mmean\u001b[0;34m(data)\u001b[0m\n\u001b[1;32m    314\u001b[0m     \u001b[0;32mif\u001b[0m \u001b[0mn\u001b[0m \u001b[0;34m<\u001b[0m \u001b[0;36m1\u001b[0m\u001b[0;34m:\u001b[0m\u001b[0;34m\u001b[0m\u001b[0;34m\u001b[0m\u001b[0m\n\u001b[1;32m    315\u001b[0m         \u001b[0;32mraise\u001b[0m \u001b[0mStatisticsError\u001b[0m\u001b[0;34m(\u001b[0m\u001b[0;34m'mean requires at least one data point'\u001b[0m\u001b[0;34m)\u001b[0m\u001b[0;34m\u001b[0m\u001b[0;34m\u001b[0m\u001b[0m\n\u001b[0;32m--> 316\u001b[0;31m     \u001b[0mT\u001b[0m\u001b[0;34m,\u001b[0m \u001b[0mtotal\u001b[0m\u001b[0;34m,\u001b[0m \u001b[0mcount\u001b[0m \u001b[0;34m=\u001b[0m \u001b[0m_sum\u001b[0m\u001b[0;34m(\u001b[0m\u001b[0mdata\u001b[0m\u001b[0;34m)\u001b[0m\u001b[0;34m\u001b[0m\u001b[0;34m\u001b[0m\u001b[0m\n\u001b[0m\u001b[1;32m    317\u001b[0m     \u001b[0;32massert\u001b[0m \u001b[0mcount\u001b[0m \u001b[0;34m==\u001b[0m \u001b[0mn\u001b[0m\u001b[0;34m\u001b[0m\u001b[0;34m\u001b[0m\u001b[0m\n\u001b[1;32m    318\u001b[0m     \u001b[0;32mreturn\u001b[0m \u001b[0m_convert\u001b[0m\u001b[0;34m(\u001b[0m\u001b[0mtotal\u001b[0m\u001b[0;34m/\u001b[0m\u001b[0mn\u001b[0m\u001b[0;34m,\u001b[0m \u001b[0mT\u001b[0m\u001b[0;34m)\u001b[0m\u001b[0;34m\u001b[0m\u001b[0;34m\u001b[0m\u001b[0m\n",
      "\u001b[0;32m/opt/anaconda3/lib/python3.8/statistics.py\u001b[0m in \u001b[0;36m_sum\u001b[0;34m(data, start)\u001b[0m\n\u001b[1;32m    164\u001b[0m     \u001b[0;32mfor\u001b[0m \u001b[0mtyp\u001b[0m\u001b[0;34m,\u001b[0m \u001b[0mvalues\u001b[0m \u001b[0;32min\u001b[0m \u001b[0mgroupby\u001b[0m\u001b[0;34m(\u001b[0m\u001b[0mdata\u001b[0m\u001b[0;34m,\u001b[0m \u001b[0mtype\u001b[0m\u001b[0;34m)\u001b[0m\u001b[0;34m:\u001b[0m\u001b[0;34m\u001b[0m\u001b[0;34m\u001b[0m\u001b[0m\n\u001b[1;32m    165\u001b[0m         \u001b[0mT\u001b[0m \u001b[0;34m=\u001b[0m \u001b[0m_coerce\u001b[0m\u001b[0;34m(\u001b[0m\u001b[0mT\u001b[0m\u001b[0;34m,\u001b[0m \u001b[0mtyp\u001b[0m\u001b[0;34m)\u001b[0m  \u001b[0;31m# or raise TypeError\u001b[0m\u001b[0;34m\u001b[0m\u001b[0;34m\u001b[0m\u001b[0m\n\u001b[0;32m--> 166\u001b[0;31m         \u001b[0;32mfor\u001b[0m \u001b[0mn\u001b[0m\u001b[0;34m,\u001b[0m\u001b[0md\u001b[0m \u001b[0;32min\u001b[0m \u001b[0mmap\u001b[0m\u001b[0;34m(\u001b[0m\u001b[0m_exact_ratio\u001b[0m\u001b[0;34m,\u001b[0m \u001b[0mvalues\u001b[0m\u001b[0;34m)\u001b[0m\u001b[0;34m:\u001b[0m\u001b[0;34m\u001b[0m\u001b[0;34m\u001b[0m\u001b[0m\n\u001b[0m\u001b[1;32m    167\u001b[0m             \u001b[0mcount\u001b[0m \u001b[0;34m+=\u001b[0m \u001b[0;36m1\u001b[0m\u001b[0;34m\u001b[0m\u001b[0;34m\u001b[0m\u001b[0m\n\u001b[1;32m    168\u001b[0m             \u001b[0mpartials\u001b[0m\u001b[0;34m[\u001b[0m\u001b[0md\u001b[0m\u001b[0;34m]\u001b[0m \u001b[0;34m=\u001b[0m \u001b[0mpartials_get\u001b[0m\u001b[0;34m(\u001b[0m\u001b[0md\u001b[0m\u001b[0;34m,\u001b[0m \u001b[0;36m0\u001b[0m\u001b[0;34m)\u001b[0m \u001b[0;34m+\u001b[0m \u001b[0mn\u001b[0m\u001b[0;34m\u001b[0m\u001b[0;34m\u001b[0m\u001b[0m\n",
      "\u001b[0;32m/opt/anaconda3/lib/python3.8/statistics.py\u001b[0m in \u001b[0;36m_exact_ratio\u001b[0;34m(x)\u001b[0m\n\u001b[1;32m    246\u001b[0m         \u001b[0;32mreturn\u001b[0m \u001b[0;34m(\u001b[0m\u001b[0mx\u001b[0m\u001b[0;34m,\u001b[0m \u001b[0;32mNone\u001b[0m\u001b[0;34m)\u001b[0m\u001b[0;34m\u001b[0m\u001b[0;34m\u001b[0m\u001b[0m\n\u001b[1;32m    247\u001b[0m     \u001b[0mmsg\u001b[0m \u001b[0;34m=\u001b[0m \u001b[0;34m\"can't convert type '{}' to numerator/denominator\"\u001b[0m\u001b[0;34m\u001b[0m\u001b[0;34m\u001b[0m\u001b[0m\n\u001b[0;32m--> 248\u001b[0;31m     \u001b[0;32mraise\u001b[0m \u001b[0mTypeError\u001b[0m\u001b[0;34m(\u001b[0m\u001b[0mmsg\u001b[0m\u001b[0;34m.\u001b[0m\u001b[0mformat\u001b[0m\u001b[0;34m(\u001b[0m\u001b[0mtype\u001b[0m\u001b[0;34m(\u001b[0m\u001b[0mx\u001b[0m\u001b[0;34m)\u001b[0m\u001b[0;34m.\u001b[0m\u001b[0m__name__\u001b[0m\u001b[0;34m)\u001b[0m\u001b[0;34m)\u001b[0m\u001b[0;34m\u001b[0m\u001b[0;34m\u001b[0m\u001b[0m\n\u001b[0m\u001b[1;32m    249\u001b[0m \u001b[0;34m\u001b[0m\u001b[0m\n\u001b[1;32m    250\u001b[0m \u001b[0;34m\u001b[0m\u001b[0m\n",
      "\u001b[0;31mTypeError\u001b[0m: can't convert type 'NoneType' to numerator/denominator"
     ]
    }
   ],
   "source": [
    "mean_post_presidency = stats.mean(post_presidency)"
   ]
  },
  {
   "cell_type": "markdown",
   "metadata": {},
   "source": [
    "## 11"
   ]
  },
  {
   "cell_type": "code",
   "execution_count": 95,
   "metadata": {},
   "outputs": [],
   "source": [
    "from prettytable import PrettyTable"
   ]
  },
  {
   "cell_type": "code",
   "execution_count": 96,
   "metadata": {},
   "outputs": [],
   "source": [
    "def calculate_summary(data):\n",
    "    \"\"\"prints a table with the means calculated earlier in this notebook\"\"\"\n",
    "    p = PrettyTable()\n",
    "    p.field_names = ['Mean Age at inauguration','Mean Age at death','Mean number of years after presidency']\n",
    "    p.add_row(mean_inaug_age,mean_death_age,mean_post_presidency)\n",
    "    print(p)"
   ]
  },
  {
   "cell_type": "code",
   "execution_count": 97,
   "metadata": {},
   "outputs": [
    {
     "ename": "NameError",
     "evalue": "name 'mean_post_presidency' is not defined",
     "output_type": "error",
     "traceback": [
      "\u001b[0;31m---------------------------------------------------------------------------\u001b[0m",
      "\u001b[0;31mNameError\u001b[0m                                 Traceback (most recent call last)",
      "\u001b[0;32m<ipython-input-97-2008b2656b95>\u001b[0m in \u001b[0;36m<module>\u001b[0;34m\u001b[0m\n\u001b[0;32m----> 1\u001b[0;31m \u001b[0mcalculate_summary\u001b[0m\u001b[0;34m(\u001b[0m\u001b[0mmean_inaug_age\u001b[0m\u001b[0;34m)\u001b[0m\u001b[0;34m\u001b[0m\u001b[0;34m\u001b[0m\u001b[0m\n\u001b[0m",
      "\u001b[0;32m<ipython-input-96-14d5163f5ab0>\u001b[0m in \u001b[0;36mcalculate_summary\u001b[0;34m(data)\u001b[0m\n\u001b[1;32m      3\u001b[0m     \u001b[0mp\u001b[0m \u001b[0;34m=\u001b[0m \u001b[0mPrettyTable\u001b[0m\u001b[0;34m(\u001b[0m\u001b[0;34m)\u001b[0m\u001b[0;34m\u001b[0m\u001b[0;34m\u001b[0m\u001b[0m\n\u001b[1;32m      4\u001b[0m     \u001b[0mp\u001b[0m\u001b[0;34m.\u001b[0m\u001b[0mfield_names\u001b[0m \u001b[0;34m=\u001b[0m \u001b[0;34m[\u001b[0m\u001b[0;34m'Mean Age at inauguration'\u001b[0m\u001b[0;34m,\u001b[0m\u001b[0;34m'Mean Age at death'\u001b[0m\u001b[0;34m,\u001b[0m\u001b[0;34m'Mean number of years after presidency'\u001b[0m\u001b[0;34m]\u001b[0m\u001b[0;34m\u001b[0m\u001b[0;34m\u001b[0m\u001b[0m\n\u001b[0;32m----> 5\u001b[0;31m     \u001b[0mp\u001b[0m\u001b[0;34m.\u001b[0m\u001b[0madd_row\u001b[0m\u001b[0;34m(\u001b[0m\u001b[0mmean_inaug_age\u001b[0m\u001b[0;34m,\u001b[0m\u001b[0mmean_death_age\u001b[0m\u001b[0;34m,\u001b[0m\u001b[0mmean_post_presidency\u001b[0m\u001b[0;34m)\u001b[0m\u001b[0;34m\u001b[0m\u001b[0;34m\u001b[0m\u001b[0m\n\u001b[0m\u001b[1;32m      6\u001b[0m     \u001b[0mprint\u001b[0m\u001b[0;34m(\u001b[0m\u001b[0mp\u001b[0m\u001b[0;34m)\u001b[0m\u001b[0;34m\u001b[0m\u001b[0;34m\u001b[0m\u001b[0m\n",
      "\u001b[0;31mNameError\u001b[0m: name 'mean_post_presidency' is not defined"
     ]
    }
   ],
   "source": [
    "calculate_summary(mean_inaug_age)"
   ]
  },
  {
   "cell_type": "markdown",
   "metadata": {},
   "source": [
    "## 12"
   ]
  },
  {
   "cell_type": "code",
   "execution_count": 91,
   "metadata": {},
   "outputs": [],
   "source": [
    "def convert_to_dict(presidents):\n",
    "    \"\"\"converts raw data to a dictionary with last name as the key and death age as the value\"\"\"\n",
    "    prez_dicts = dict(zip(last_name, Death_age))\n",
    "    print(prez_dicts)"
   ]
  },
  {
   "cell_type": "code",
   "execution_count": 83,
   "metadata": {},
   "outputs": [
    {
     "name": "stdout",
     "output_type": "stream",
     "text": [
      "{'Washington': 67, 'Adams1': 90, 'Jefferson': 83, 'Madison': 85, 'Monroe': 73, 'Adams2': 80, 'Jackson': 78, 'Van Buren': 79, 'Harrison1': 68, 'Tyler': 71, 'Polk': 53, 'Taylor': 65, 'Fillmore': 74, 'Pierce': 64, 'Buchanan': 77, 'Lincoln': 56, 'Johnson': 66, 'Grant': 63, 'Hayes': 70, 'Garfield': 49, 'Arthur': 56, 'Cleveland1': 71, 'Harrison2': 67, 'Cleveland2': 71}\n"
     ]
    }
   ],
   "source": [
    "convert_to_dict(presidents)"
   ]
  },
  {
   "cell_type": "code",
   "execution_count": null,
   "metadata": {},
   "outputs": [],
   "source": []
  }
 ],
 "metadata": {
  "kernelspec": {
   "display_name": "Python 3",
   "language": "python",
   "name": "python3"
  },
  "language_info": {
   "codemirror_mode": {
    "name": "ipython",
    "version": 3
   },
   "file_extension": ".py",
   "mimetype": "text/x-python",
   "name": "python",
   "nbconvert_exporter": "python",
   "pygments_lexer": "ipython3",
   "version": "3.8.3"
  }
 },
 "nbformat": 4,
 "nbformat_minor": 4
}
